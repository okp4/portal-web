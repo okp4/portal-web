{
 "cells": [
  {
   "cell_type": "code",
   "execution_count": 34,
   "metadata": {},
   "outputs": [],
   "source": [
    "from rdflib import Graph, Namespace, Literal, BNode, URIRef\n",
    "from pyld import jsonld\n",
    "import json\n",
    "import os"
   ]
  },
  {
   "cell_type": "code",
   "execution_count": 96,
   "metadata": {},
   "outputs": [
    {
     "data": {
      "text/plain": [
       "{'id': '142dacec-eb0f-4cd3-ab2b-d2095b8552b3',\n",
       " 'dataspaceId': 'ef347285-e52a-430d-9679-dcb76b962ce7',\n",
       " 'mainPicture': 'https://images.unsplash.com/photo-1537721664796-76f77222a5d0',\n",
       " 'type': 'dataset',\n",
       " 'name': 'ADMIN EXPRESS COG 2022 DEPARTEMENT',\n",
       " 'access': 'PUBLIC',\n",
       " 'categories': ['open data', 'INSEE', 'departement', 'territoire', 'france'],\n",
       " 'description': \"ADMIN EXPRESS permet d'effectuer des croisements avec d'autres sources de données dans le but de construire des représentations thématiques du territoire selon une granularité administrative (commune, arrondissement départementaux, département, région). ADMIN EXPRESS est décliné dans une édition « COG », conforme au code officiel géographique publié chaque année par l'INSEE.\",\n",
       " 'provider': 'OKP4',\n",
       " 'creator': 'IGN',\n",
       " 'size': 49997636,\n",
       " 'format': 'shapfile',\n",
       " 'quality': 5,\n",
       " 'completude': 100,\n",
       " 'createdOn': '2022-08-27T14:11:45Z',\n",
       " 'updatedOn': '2022-08-27T14:11:45Z'}"
      ]
     },
     "execution_count": 96,
     "metadata": {},
     "output_type": "execute_result"
    }
   ],
   "source": [
    "# LOAD json files\n",
    "raw = open(\"C:/Users/cedri/okp4/portal-web/data/dataspaces/ef347285-e52a-430d-9679-dcb76b962ce7/datasets/142dacec-eb0f-4cd3-ab2b-d2095b8552b3.json\")\n",
    "jld = json.load(raw)\n",
    "jld"
   ]
  },
  {
   "cell_type": "code",
   "execution_count": 3,
   "metadata": {},
   "outputs": [],
   "source": [
    "#NAMESPACE DEFINITION\n",
    "from rdflib.namespace import RDF, OWL, SKOS, XSD\n",
    "CORE = Namespace(\"https://ontology.okp4.space/core/\")\n",
    "CORETH = Namespace('https://ontology.okp4.space/thesaurus/')"
   ]
  },
  {
   "cell_type": "code",
   "execution_count": 109,
   "metadata": {},
   "outputs": [],
   "source": [
    "# INSTANCIATION DES TYPES DE DONNEES RDF (LITERAL, BNODE, URI)\n",
    "id = URIRef(jld['id'])\n",
    "pic = URIRef(jld['mainPicture'])\n",
    "provider = URIRef(jld['provider'])\n",
    "name = Literal(jld['name'])\n",
    "dsid = URIRef(jld['dataspaceId'])\n",
    "tag = [Literal(i) for i in jld['categories']]\n",
    "type_ = URIRef(jld['type'])\n",
    "access = URIRef(jld['access'])\n",
    "desc = Literal(jld['description'])\n",
    "creator = URIRef(jld['creator'])\n",
    "createdOn = URIRef(jld['createdOn'])\n",
    "updOn = URIRef(jld['updatedOn'])\n",
    "size_ = Literal(jld['size'])\n",
    "com = Literal(jld['completude'])\n",
    "format_ = URIRef(jld['format'])\n",
    "quality = Literal(jld['quality'])"
   ]
  },
  {
   "cell_type": "code",
   "execution_count": 110,
   "metadata": {},
   "outputs": [],
   "source": [
    "#GRAPH DEFINITION\n",
    "g = Graph()"
   ]
  },
  {
   "cell_type": "code",
   "execution_count": 111,
   "metadata": {},
   "outputs": [
    {
     "data": {
      "text/plain": [
       "<Graph identifier=Ndafffae1b4e64121acfa24ddf2d2b72d (<class 'rdflib.graph.Graph'>)>"
      ]
     },
     "execution_count": 111,
     "metadata": {},
     "output_type": "execute_result"
    }
   ],
   "source": [
    "#DEFINITION DU TYPE DES DONNEE DU JSON \n",
    "\n",
    "g.add((desc, RDF.type, XSD.string))\n",
    "g.add((creator, RDF.type, XSD.string))\n",
    "g.add((name, RDF.type, XSD.string))\n",
    "g.add((id, RDF.type, XSD.string)) # g.add((id, RDF.type, CORE.DIDURI))\n",
    "g.add((dsid, RDF.type, XSD.string)) # g.add((dsid, RDF.type, CORE.DIDURI))\n",
    "g.add((pic, RDF.type, XSD.anyURI)) # g.add((pic, RDF.type, CORE.DIDURI))\n",
    "g.add((provider, RDF.type, XSD.string)) # g.add((id, RDF.type, CORE.DIDURI))\n",
    "for tg in tag :\n",
    "    g.add((tg,RDF.type,XSD.string))\n",
    "g.add((type_, RDF.type, XSD.string))\n",
    "g.add((createdOn,RDF.type,XSD.dateTimeStamp))\n",
    "g.add((updOn,RDF.type,XSD.dateTimeStamp))\n",
    "g.add((quality,RDF.type,XSD.numeric))\n",
    "g.add((com,RDF.type,XSD.numeric))\n",
    "g.add((size_,RDF.type,XSD.numeric))\n",
    "g.add((format_,RDF.type,XSD.string))\n",
    "g.add((access,RDF.type,XSD.string))\n"
   ]
  },
  {
   "cell_type": "code",
   "execution_count": 112,
   "metadata": {},
   "outputs": [
    {
     "data": {
      "text/plain": [
       "<Graph identifier=Ndafffae1b4e64121acfa24ddf2d2b72d (<class 'rdflib.graph.Graph'>)>"
      ]
     },
     "execution_count": 112,
     "metadata": {},
     "output_type": "execute_result"
    }
   ],
   "source": [
    "# DESCRIPTION DES METADONNEE DE LA RESSOUCRE PRINCIPALE A DECRIRE (INSTANCE DE CORE.Metadata)\n",
    "\n",
    "g.add((createdOn, RDF.type, CORE.Metadata))\n",
    "g.add((updOn, RDF.type, CORE.Metadata))\n",
    "g.add((quality, RDF.type, CORE.Metadata))\n",
    "for tg in tag :\n",
    "    g.add((tg,RDF.type,CORE.Metadata))\n",
    "g.add((com, RDF.type, CORE.Metadata))\n",
    "g.add((size_, RDF.type, CORE.Metadata))\n",
    "g.add((format_, RDF.type, CORE.Metadata))\n",
    "g.add((access, RDF.type, CORE.Metadata))"
   ]
  },
  {
   "cell_type": "code",
   "execution_count": 113,
   "metadata": {},
   "outputs": [],
   "source": [
    "#DEFINITION DE LA RESSOURCE DECRITE\n",
    "filename = URIRef('filepath')"
   ]
  },
  {
   "cell_type": "code",
   "execution_count": 114,
   "metadata": {},
   "outputs": [
    {
     "data": {
      "text/plain": [
       "<Graph identifier=Ndafffae1b4e64121acfa24ddf2d2b72d (<class 'rdflib.graph.Graph'>)>"
      ]
     },
     "execution_count": 114,
     "metadata": {},
     "output_type": "execute_result"
    }
   ],
   "source": [
    "# AJOUT DES RELATION AVEC filename dans le GRAPH\n",
    "g.add((filename,RDF.type,CORE.Dataset))\n",
    "g.add((filename,CORE.hasIdentifier,id))\n",
    "g.add((filename,CORE.hasImage,URIRef(pic)))\n",
    "g.add((filename,CORE.providedBy,provider))\n",
    "g.add((filename,CORE.hasTitle,name))\n",
    "g.add((filename,CORE.belongsTo,dsid))\n",
    "g.add((filename,CORE.hasCreator,creator))\n",
    "g.add((filename,CORE.hasDescription,desc))\n",
    "g.add((type_, CORE.describes, filename))\n",
    "g.add((format_, CORE.describes, filename))\n",
    "g.add((size_, CORE.describes, filename))\n",
    "g.add((com, CORE.describes, filename))\n",
    "g.add((updOn, CORE.describes, filename))\n",
    "g.add((createdOn, CORE.describes, filename))\n",
    "g.add((filename, RDF.type, CORE.Dataset))"
   ]
  },
  {
   "cell_type": "code",
   "execution_count": 115,
   "metadata": {},
   "outputs": [
    {
     "name": "stderr",
     "output_type": "stream",
     "text": [
      "c:\\Users\\cedri\\Anaconda3\\lib\\site-packages\\rdflib\\plugins\\serializers\\nt.py:35: UserWarning: NTSerializer always uses UTF-8 encoding. Given encoding was: None\n",
      "  warnings.warn(\n"
     ]
    },
    {
     "data": {
      "text/plain": [
       "<Graph identifier=Ndafffae1b4e64121acfa24ddf2d2b72d (<class 'rdflib.graph.Graph'>)>"
      ]
     },
     "execution_count": 115,
     "metadata": {},
     "output_type": "execute_result"
    }
   ],
   "source": [
    "g.serialize(destination='json_ld_data.ttl', format=\"turtle\" )\n",
    "g.serialize(destination='json_ld_data.xml', format=\"xml\" )\n",
    "g.serialize(destination='json_ld_data.jsonld', format=\"json-ld\" )\n",
    "g.serialize(destination='json_ld_data.nt', format=\"nt\" )"
   ]
  },
  {
   "cell_type": "code",
   "execution_count": 13,
   "metadata": {},
   "outputs": [],
   "source": [
    "h = Graph()"
   ]
  },
  {
   "cell_type": "code",
   "execution_count": 15,
   "metadata": {},
   "outputs": [
    {
     "data": {
      "text/plain": [
       "<Graph identifier=Na4e8ad698aaa462d91a7f6b04dab17b3 (<class 'rdflib.graph.Graph'>)>"
      ]
     },
     "execution_count": 15,
     "metadata": {},
     "output_type": "execute_result"
    }
   ],
   "source": [
    "h.parse(\"C:/Users/cedri/okp4/ontology/src/json_ld_data.nt\", format = \"nt\")"
   ]
  },
  {
   "cell_type": "code",
   "execution_count": 26,
   "metadata": {},
   "outputs": [
    {
     "name": "stdout",
     "output_type": "stream",
     "text": [
      "[\n",
      "  {\n",
      "    \"@id\": \"https://images.unsplash.com/photo-1537721664796-76f77222a5d0\",\n",
      "    \"@type\": [\n",
      "      \"http://www.w3.org/2001/XMLSchema#anyURI\"\n",
      "    ]\n",
      "  }\n",
      "]\n"
     ]
    }
   ],
   "source": [
    "print(h.serialize(format=\"json-ld\"))"
   ]
  },
  {
   "cell_type": "markdown",
   "metadata": {},
   "source": []
  },
  {
   "cell_type": "code",
   "execution_count": 86,
   "metadata": {},
   "outputs": [],
   "source": [
    "coreld = json.load(open(\"C:/Users/cedri/okp4/ontology/src/json_ld_data.jsonld\"))"
   ]
  },
  {
   "cell_type": "code",
   "execution_count": 87,
   "metadata": {},
   "outputs": [
    {
     "data": {
      "text/plain": [
       "[{'@id': 'OKP4', '@type': ['http://www.w3.org/2001/XMLSchema#string']},\n",
       " {'@id': 'https://images.unsplash.com/photo-1537721664796-76f77222a5d0',\n",
       "  '@type': ['http://www.w3.org/2001/XMLSchema#anyURI']},\n",
       " {'@id': 'filepath',\n",
       "  '@type': ['https://ontology.okp4.space/core/Dataset'],\n",
       "  'https://ontology.okp4.space/core/belongsTo': [{'@value': 'ef347285-e52a-430d-9679-dcb76b962ce7'}],\n",
       "  'https://ontology.okp4.space/core/hasCreator': [{'@value': 'IGN'}],\n",
       "  'https://ontology.okp4.space/core/hasDescription': [{'@value': \"ADMIN EXPRESS permet d'effectuer des croisements avec d'autres sources de données dans le but de construire des représentations thématiques du territoire selon une granularité administrative (commune, arrondissement départementaux, département, région). ADMIN EXPRESS est décliné dans une édition « COG », conforme au code officiel géographique publié chaque année par l'INSEE.\"}],\n",
       "  'https://ontology.okp4.space/core/hasIdentifier': [{'@value': '142dacec-eb0f-4cd3-ab2b-d2095b8552b3'}],\n",
       "  'https://ontology.okp4.space/core/hasImage': [{'@id': 'https://images.unsplash.com/photo-1537721664796-76f77222a5d0'}],\n",
       "  'https://ontology.okp4.space/core/hasTitle': [{'@value': 'ADMIN EXPRESS COG 2022 DEPARTEMENT'}],\n",
       "  'https://ontology.okp4.space/core/providedBy': [{'@id': 'OKP4'}]}]"
      ]
     },
     "execution_count": 87,
     "metadata": {},
     "output_type": "execute_result"
    }
   ],
   "source": [
    "coreld"
   ]
  },
  {
   "cell_type": "code",
   "execution_count": 33,
   "metadata": {},
   "outputs": [],
   "source": [
    "context = {\"@context\":{\n",
    "    \"core\":{\n",
    "    \"@id\":\"https://ontology.okp4.space/core/\"\n",
    "    },\n",
    "    \"rdf\": \"http://www.w3.org/1999/02/22-rdf-syntax-ns#\",\n",
    "    \"rdfs\": \"http://www.w3.org/2000/01/rdf-schema#\",\n",
    "    \"xsd\": \"http://www.w3.org/2001/XMLSchema#\",\n",
    "    \"owl\": \"http://www.w3.org/2002/07/owl#\",\n",
    "    \"dcterms\": \"http://purl.org/dc/terms/\",\n",
    "    \"okp4core\": \"https://ontology.okp4.space/core/\",\n",
    "    \"okp4th\": \"https://ontology.okp4.space/thesaurus/\",\n",
    "    \"skos\": \"http://www.w3.org/2004/02/skos/core#\"\n",
    "}}"
   ]
  },
  {
   "cell_type": "code",
   "execution_count": 88,
   "metadata": {},
   "outputs": [],
   "source": [
    "compacted = jsonld.compact(coreld, context)"
   ]
  },
  {
   "cell_type": "code",
   "execution_count": 40,
   "metadata": {},
   "outputs": [
    {
     "data": {
      "text/plain": [
       "dict"
      ]
     },
     "execution_count": 40,
     "metadata": {},
     "output_type": "execute_result"
    }
   ],
   "source": [
    "type(compacted)"
   ]
  },
  {
   "cell_type": "code",
   "execution_count": 89,
   "metadata": {},
   "outputs": [],
   "source": [
    "print(json.dumps(compacted, indent=2), file=open('core_compacted.jsonld','w'))"
   ]
  },
  {
   "cell_type": "code",
   "execution_count": 71,
   "metadata": {},
   "outputs": [
    {
     "data": {
      "text/plain": [
       "<Graph identifier=N9b453900dc0b412a9b60377a84e71a5f (<class 'rdflib.graph.Graph'>)>"
      ]
     },
     "execution_count": 71,
     "metadata": {},
     "output_type": "execute_result"
    }
   ],
   "source": [
    "t = Graph()\n",
    "a = Literal(\"https://www.youtube.com/watch?v=UmvWk_TQ30A\")\n",
    "b = URIRef(\"https://www.youtube.com/watch?v=UmvWk_TQ30B\")\n",
    "c = URIRef(\"https://www.youtube.com/watch?v=UmvWk_TQ30C\")\n",
    "d = URIRef(\"https://www.youtube.com/watch?v=UmvWk_TQ30D\")\n",
    "\n",
    "t.add((a, RDF.type, CORE.Metadata))\n",
    "t.add((a, CORE.describes, c))\n",
    "t.add((c, CORE.describes, d))\n",
    "t.add((b, CORE.describes, c))\n",
    "t.add((b, CORE.describes, d))"
   ]
  },
  {
   "cell_type": "code",
   "execution_count": 72,
   "metadata": {},
   "outputs": [],
   "source": [
    "print(t.serialize(format=\"json-ld\"), file = open(\"test.jsonld\",\"w\"))"
   ]
  },
  {
   "cell_type": "code",
   "execution_count": 73,
   "metadata": {},
   "outputs": [],
   "source": [
    "tst = json.load(open(\"test.jsonld\"))"
   ]
  },
  {
   "cell_type": "code",
   "execution_count": 74,
   "metadata": {},
   "outputs": [],
   "source": [
    "tstc = jsonld.compact(tst,context)"
   ]
  },
  {
   "cell_type": "code",
   "execution_count": 75,
   "metadata": {},
   "outputs": [
    {
     "data": {
      "text/plain": [
       "2"
      ]
     },
     "execution_count": 75,
     "metadata": {},
     "output_type": "execute_result"
    }
   ],
   "source": [
    "len(tstc['@graph'])"
   ]
  },
  {
   "cell_type": "code",
   "execution_count": 76,
   "metadata": {},
   "outputs": [
    {
     "data": {
      "text/plain": [
       "[{'@id': 'https://www.youtube.com/watch?v=UmvWk_TQ30C',\n",
       "  'okp4core:describes': {'@id': 'https://www.youtube.com/watch?v=UmvWk_TQ30D'}},\n",
       " {'@id': 'https://www.youtube.com/watch?v=UmvWk_TQ30B',\n",
       "  'okp4core:describes': [{'@id': 'https://www.youtube.com/watch?v=UmvWk_TQ30C'},\n",
       "   {'@id': 'https://www.youtube.com/watch?v=UmvWk_TQ30D'}]}]"
      ]
     },
     "execution_count": 76,
     "metadata": {},
     "output_type": "execute_result"
    }
   ],
   "source": [
    "tstc['@graph']"
   ]
  },
  {
   "cell_type": "code",
   "execution_count": null,
   "metadata": {},
   "outputs": [],
   "source": [
    "[\n",
    "    {\"sujet/@id\":\"value/url\",\n",
    "     \"prédicat/URI\" : \"Objet/{'@id':url}\"\n",
    "    }\n",
    "]"
   ]
  }
 ],
 "metadata": {
  "kernelspec": {
   "display_name": "base",
   "language": "python",
   "name": "python3"
  },
  "language_info": {
   "codemirror_mode": {
    "name": "ipython",
    "version": 3
   },
   "file_extension": ".py",
   "mimetype": "text/x-python",
   "name": "python",
   "nbconvert_exporter": "python",
   "pygments_lexer": "ipython3",
   "version": "3.9.13"
  },
  "orig_nbformat": 4,
  "vscode": {
   "interpreter": {
    "hash": "eed95302438b90998a0ad10fec3810a77f34edac9fa4227c29dc02223aefb7b7"
   }
  }
 },
 "nbformat": 4,
 "nbformat_minor": 2
}
