{
 "cells": [
  {
   "cell_type": "code",
   "execution_count": 2,
   "metadata": {},
   "outputs": [],
   "source": [
    "from rdflib import Graph, Namespace, Literal, BNode, URIRef\n",
    "from pyld import jsonld\n",
    "import json\n",
    "import os\n",
    "import tqdm\n"
   ]
  },
  {
   "cell_type": "code",
   "execution_count": 3,
   "metadata": {},
   "outputs": [],
   "source": [
    "# bien définir le chemein d'accès\n",
    "os.chdir('C:/Users/cedri/okp4/portal-web/data/dataspaces/ef347285-e52a-430d-9679-dcb76b962ce7/datasets/')\n"
   ]
  },
  {
   "cell_type": "code",
   "execution_count": 6,
   "metadata": {},
   "outputs": [],
   "source": [
    "for file in os.listdir():\n",
    "    if os.path.isfile(file) : \n",
    "        try:\n",
    "            jsonfile = json.load(open(file))\n",
    "        except ValueError : # includes JSONDecodeError\n",
    "            continue\n",
    "        d = {}\n",
    "        d[\"@context\"] = {\n",
    "            \"rdf\": \"http://www.w3.org/1999/02/22-rdf-syntax-ns#\",\n",
    "            \"rdfs\": \"http://www.w3.org/2000/01/rdf-schema#\",\n",
    "            \"xsd\": \"http://www.w3.org/2001/XMLSchema#\",\n",
    "            \"owl\": \"http://www.w3.org/2002/07/owl#\",\n",
    "            \"dcterms\": \"http://purl.org/dc/terms/\",\n",
    "            \"okp4core\": \"https://ontology.okp4.space/core/\",\n",
    "            \"okp4th\": \"https://ontology.okp4.space/thesaurus/\",\n",
    "            \"skos\": \"http://www.w3.org/2004/02/skos/core#\"}\n",
    "\n",
    "        d[\"@id\"] = jsonfile[\"id\"]\n",
    "        d[\"@type\"] = \"okp4core:Dataset\"\n",
    "        d[\"okp4core:belongsTo\"] = jsonfile[\"dataspaceId\"]\n",
    "        d[\"okp4core:hasCreator\"] = jsonfile[\"creator\"]\n",
    "        d[\"okp4core:hasDescription\"] = jsonfile[\"description\"]\n",
    "        d[\"okp4core:hasIdentifier\"] = jsonfile[\"id\"]\n",
    "        d[\"okp4core:hasImage\"] = {\"@id\": jsonfile[\"mainPicture\"]}\n",
    "        d[\"okp4core:hasTitle\"] = jsonfile[\"name\"]\n",
    "        d[\"okp4core:providedBy\"] = jsonfile[\"provider\"]\n",
    "        d[\"format\"] = jsonfile[\"format\"]\n",
    "        d[\"size\"] = jsonfile[\"size\"]\n",
    "        d[\"completude\"] = jsonfile[\"completude\"]\n",
    "        d[\"createdOn\"] = jsonfile[\"createdOn\"]\n",
    "        d[\"updatedOn\"] = jsonfile[\"updatedOn\"]\n",
    "        d[\"quality\"] = jsonfile[\"quality\"]\n",
    "        d[\"categories\"] = jsonfile[\"categories\"]\n",
    "        d[\"access\"] = jsonfile[\"access\"]\n",
    "\n",
    "        jldfile = open(\"./jsonldfiles/\"+file[:-5]+\".jsonld\",'w')\n",
    "        json.dump(d, fp = jldfile, indent=2)\n",
    "        jldfile.close()\n"
   ]
  }
 ],
 "metadata": {
  "kernelspec": {
   "display_name": "base",
   "language": "python",
   "name": "python3"
  },
  "language_info": {
   "codemirror_mode": {
    "name": "ipython",
    "version": 3
   },
   "file_extension": ".py",
   "mimetype": "text/x-python",
   "name": "python",
   "nbconvert_exporter": "python",
   "pygments_lexer": "ipython3",
   "version": "3.9.13"
  },
  "orig_nbformat": 4,
  "vscode": {
   "interpreter": {
    "hash": "eed95302438b90998a0ad10fec3810a77f34edac9fa4227c29dc02223aefb7b7"
   }
  }
 },
 "nbformat": 4,
 "nbformat_minor": 2
}
